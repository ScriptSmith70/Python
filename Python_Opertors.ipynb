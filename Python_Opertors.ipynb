{
  "nbformat": 4,
  "nbformat_minor": 0,
  "metadata": {
    "colab": {
      "provenance": [],
      "authorship_tag": "ABX9TyPaVw69E4QoH+gtpzI9tulC",
      "include_colab_link": true
    },
    "kernelspec": {
      "name": "python3",
      "display_name": "Python 3"
    },
    "language_info": {
      "name": "python"
    }
  },
  "cells": [
    {
      "cell_type": "markdown",
      "metadata": {
        "id": "view-in-github",
        "colab_type": "text"
      },
      "source": [
        "<a href=\"https://colab.research.google.com/github/ScriptSmith70/Python/blob/main/Python_Opertors.ipynb\" target=\"_parent\"><img src=\"https://colab.research.google.com/assets/colab-badge.svg\" alt=\"Open In Colab\"/></a>"
      ]
    },
    {
      "cell_type": "code",
      "execution_count": 5,
      "metadata": {
        "colab": {
          "base_uri": "https://localhost:8080/",
          "height": 104
        },
        "collapsed": true,
        "id": "15HhBcuR0F6x",
        "outputId": "451c4bf9-16e4-437d-adeb-a2218c54873d"
      },
      "outputs": [
        {
          "output_type": "execute_result",
          "data": {
            "text/plain": [
              "'\\n\\n1. Arithmetic Operators\\n\\nArithmetic operators are used to perform mathematical operations.\\n\\n| Operator | Description      | Example (`a=10, b=3`) | Result |\\n| -------- | ---------------- | --------------------- | ------ |\\n| `+`      | Addition         | `a + b`               | 13     |\\n| `-`      | Subtraction      | `a - b`               | 7      |\\n| `*`      | Multiplication   | `a * b`               | 30     |\\n| `/`      | Division (float) | `a / b`               | 3.33   |\\n| `//`     | Floor Division   | `a // b`              | 3      |\\n| `%`      | Modulus          | `a % b`               | 1      |\\n| `**`     | Exponentiation   | `a ** b`              | 1000   |\\n\\n\\n'"
            ],
            "application/vnd.google.colaboratory.intrinsic+json": {
              "type": "string"
            }
          },
          "metadata": {},
          "execution_count": 5
        }
      ],
      "source": [
        "'''\n",
        "\n",
        "1. Arithmetic Operators\n",
        "\n",
        "Arithmetic operators are used to perform mathematical operations.\n",
        "\n",
        "| Operator | Description      | Example (`a=10, b=3`) | Result |\n",
        "| -------- | ---------------- | --------------------- | ------ |\n",
        "| `+`      | Addition         | `a + b`               | 13     |\n",
        "| `-`      | Subtraction      | `a - b`               | 7      |\n",
        "| `*`      | Multiplication   | `a * b`               | 30     |\n",
        "| `/`      | Division (float) | `a / b`               | 3.33   |\n",
        "| `//`     | Floor Division   | `a // b`              | 3      |\n",
        "| `%`      | Modulus          | `a % b`               | 1      |\n",
        "| `**`     | Exponentiation   | `a ** b`              | 1000   |\n",
        "\n",
        "\n",
        "'''\n",
        "\n",
        "\n"
      ]
    },
    {
      "cell_type": "code",
      "source": [
        "# Arithmetic Operators\n",
        "a = 10\n",
        "b = 3\n",
        "\n",
        "print(\"a + b =\", a + b)   # Addition\n",
        "print(\"a - b =\", a - b)   # Subtraction\n",
        "print(\"a * b =\", a * b)   # Multiplication\n",
        "print(\"a / b =\", a / b)   # Division (float)\n",
        "print(\"a // b =\", a // b) # Floor Division\n",
        "print(\"a % b =\", a % b)   # Modulus\n",
        "print(\"a ** b =\", a ** b) # Exponentiation\n"
      ],
      "metadata": {
        "colab": {
          "base_uri": "https://localhost:8080/"
        },
        "id": "4eiFrRsT09OZ",
        "outputId": "f60fe9f6-5c57-4734-ffc3-6e9cc251ca7f"
      },
      "execution_count": 6,
      "outputs": [
        {
          "output_type": "stream",
          "name": "stdout",
          "text": [
            "a + b = 13\n",
            "a - b = 7\n",
            "a * b = 30\n",
            "a / b = 3.3333333333333335\n",
            "a // b = 3\n",
            "a % b = 1\n",
            "a ** b = 1000\n"
          ]
        }
      ]
    },
    {
      "cell_type": "code",
      "source": [
        "'''\n",
        "\n",
        "2. Comparison Operators\n",
        "\n",
        "Comparison operators are used to compare values. They return a boolean (True or False).\n",
        "| Operator | Description      | Example (`a=10, b=3`) | Result |\n",
        "| -------- | ---------------- | --------------------- | ------ |\n",
        "| `==`     | Equal to         | `a == b`              | False  |\n",
        "| `!=`     | Not equal to     | `a != b`              | True   |\n",
        "| `>`      | Greater than     | `a > b`               | True   |\n",
        "| `<`      | Less than        | `a < b`               | False  |\n",
        "| `>=`     | Greater or equal | `a >= b`              | True   |\n",
        "| `<=`     | Less or equal    | `a <= b`              | False  |\n",
        "\n",
        "'''"
      ],
      "metadata": {
        "colab": {
          "base_uri": "https://localhost:8080/",
          "height": 104
        },
        "collapsed": true,
        "id": "0Mn6QIBO1cY4",
        "outputId": "4d62a2e7-8f71-4c25-b4d2-7db1e17f2550"
      },
      "execution_count": 7,
      "outputs": [
        {
          "output_type": "execute_result",
          "data": {
            "text/plain": [
              "'\\n\\n2. Comparison Operators\\n\\nComparison operators are used to compare values. They return a boolean (True or False).\\n| Operator | Description      | Example (`a=10, b=3`) | Result |\\n| -------- | ---------------- | --------------------- | ------ |\\n| `==`     | Equal to         | `a == b`              | False  |\\n| `!=`     | Not equal to     | `a != b`              | True   |\\n| `>`      | Greater than     | `a > b`               | True   |\\n| `<`      | Less than        | `a < b`               | False  |\\n| `>=`     | Greater or equal | `a >= b`              | True   |\\n| `<=`     | Less or equal    | `a <= b`              | False  |\\n\\n'"
            ],
            "application/vnd.google.colaboratory.intrinsic+json": {
              "type": "string"
            }
          },
          "metadata": {},
          "execution_count": 7
        }
      ]
    },
    {
      "cell_type": "code",
      "source": [
        "# Comparison Operators\n",
        "a = 10\n",
        "b = 3\n",
        "\n",
        "print(\"a == b:\", a == b)   # Equal to\n",
        "print(\"a != b:\", a != b)   # Not equal to\n",
        "print(\"a > b:\", a > b)     # Greater than\n",
        "print(\"a < b:\", a < b)     # Less than\n",
        "print(\"a >= b:\", a >= b)   # Greater or equal\n",
        "print(\"a <= b:\", a <= b)   # Less or equal\n"
      ],
      "metadata": {
        "colab": {
          "base_uri": "https://localhost:8080/"
        },
        "id": "eVl5l4HP1t3i",
        "outputId": "dc2bd9c2-b858-4c92-a007-9afa91ce769c"
      },
      "execution_count": 9,
      "outputs": [
        {
          "output_type": "stream",
          "name": "stdout",
          "text": [
            "a == b: False\n",
            "a != b: True\n",
            "a > b: True\n",
            "a < b: False\n",
            "a >= b: True\n",
            "a <= b: False\n"
          ]
        }
      ]
    },
    {
      "cell_type": "code",
      "source": [
        "'''\n",
        "\n",
        "3. Logical Operators\n",
        "\n",
        "Logical operators combine conditional statements.\n",
        "\n",
        "| Operator | Description       | Example (`x=True, y=False`) | Result |\n",
        "| -------- | ----------------- | --------------------------- | ------ |\n",
        "| `and`    | True if both True | `x and y`                   | False  |\n",
        "| `or`     | True if one True  | `x or y`                    | True   |\n",
        "| `not`    | Negates boolean   | `not x`                     | False  |\n",
        "\n",
        "'''\n"
      ],
      "metadata": {
        "colab": {
          "base_uri": "https://localhost:8080/",
          "height": 87
        },
        "collapsed": true,
        "id": "foHujixR1woT",
        "outputId": "1456528a-a2a8-4c6c-b817-122bdfb25e79"
      },
      "execution_count": 10,
      "outputs": [
        {
          "output_type": "execute_result",
          "data": {
            "text/plain": [
              "'\\n\\n3. Logical Operators\\n\\nLogical operators combine conditional statements.\\n\\n| Operator | Description       | Example (`x=True, y=False`) | Result |\\n| -------- | ----------------- | --------------------------- | ------ |\\n| `and`    | True if both True | `x and y`                   | False  |\\n| `or`     | True if one True  | `x or y`                    | True   |\\n| `not`    | Negates boolean   | `not x`                     | False  |\\n\\n'"
            ],
            "application/vnd.google.colaboratory.intrinsic+json": {
              "type": "string"
            }
          },
          "metadata": {},
          "execution_count": 10
        }
      ]
    },
    {
      "cell_type": "code",
      "source": [
        "# Logical Operators\n",
        "x = True\n",
        "y = False\n",
        "\n",
        "print(\"x and y:\", x and y) # AND\n",
        "print(\"x or y:\", x or y)   # OR\n",
        "print(\"not x:\", not x)     # NOT\n"
      ],
      "metadata": {
        "colab": {
          "base_uri": "https://localhost:8080/"
        },
        "id": "BmNfP7ld19U-",
        "outputId": "7b8910e1-a4e3-45b9-c861-9a42f72eb537"
      },
      "execution_count": 11,
      "outputs": [
        {
          "output_type": "stream",
          "name": "stdout",
          "text": [
            "x and y: False\n",
            "x or y: True\n",
            "not x: False\n"
          ]
        }
      ]
    },
    {
      "cell_type": "code",
      "source": [],
      "metadata": {
        "id": "cAT_5Fo92B_g"
      },
      "execution_count": null,
      "outputs": []
    }
  ]
}