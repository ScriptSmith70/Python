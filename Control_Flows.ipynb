{
  "nbformat": 4,
  "nbformat_minor": 0,
  "metadata": {
    "colab": {
      "provenance": [],
      "authorship_tag": "ABX9TyOEBv9AR2UuowTBlagk9udg",
      "include_colab_link": true
    },
    "kernelspec": {
      "name": "python3",
      "display_name": "Python 3"
    },
    "language_info": {
      "name": "python"
    }
  },
  "cells": [
    {
      "cell_type": "markdown",
      "metadata": {
        "id": "view-in-github",
        "colab_type": "text"
      },
      "source": [
        "<a href=\"https://colab.research.google.com/github/ScriptSmith70/Python/blob/main/Control_Flows.ipynb\" target=\"_parent\"><img src=\"https://colab.research.google.com/assets/colab-badge.svg\" alt=\"Open In Colab\"/></a>"
      ]
    },
    {
      "cell_type": "code",
      "execution_count": 1,
      "metadata": {
        "colab": {
          "base_uri": "https://localhost:8080/"
        },
        "id": "aSw7WHu_f9V-",
        "outputId": "faf79e25-4cad-48cf-ff02-e4a6173aea4b"
      },
      "outputs": [
        {
          "output_type": "stream",
          "name": "stdout",
          "text": [
            "Enter the number 24\n",
            "Even\n"
          ]
        }
      ],
      "source": [
        "# if statement\n",
        "\n",
        "val= input(\"Enter the number \")\n",
        "value_float=float(val)\n",
        "if(value_float%2 == 0):\n",
        "  print(\"Even\")"
      ]
    },
    {
      "cell_type": "code",
      "source": [
        "## If else\n",
        "val = int(input(\"Enter the number \"))\n",
        "if(val%2 == 0):\n",
        "  print(\"Even\")\n",
        "else :\n",
        "  print(\"Odd\")"
      ],
      "metadata": {
        "colab": {
          "base_uri": "https://localhost:8080/"
        },
        "id": "4HpeoJQHg-gg",
        "outputId": "19021327-9906-4a10-c416-3e4f23a13e05"
      },
      "execution_count": 2,
      "outputs": [
        {
          "output_type": "stream",
          "name": "stdout",
          "text": [
            "Enter the number 35\n",
            "Odd\n"
          ]
        }
      ]
    },
    {
      "cell_type": "code",
      "source": [
        "## Else-if\n",
        "age = int(input(\"Enter the age \"))\n",
        "if(age < 18):\n",
        "  print(1)\n",
        "elif(age>18 and age<40):\n",
        "  print(2)\n",
        "elif(age>41 and age<55):\n",
        "  print(3)\n",
        "else:\n",
        "  print(4)\n",
        ""
      ],
      "metadata": {
        "colab": {
          "base_uri": "https://localhost:8080/"
        },
        "id": "iq7QzRoJknOP",
        "outputId": "a9c83e4b-6bc9-4da4-c670-aeab981cd9e7"
      },
      "execution_count": 3,
      "outputs": [
        {
          "output_type": "stream",
          "name": "stdout",
          "text": [
            "Enter the age 40\n",
            "4\n"
          ]
        }
      ]
    },
    {
      "cell_type": "code",
      "source": [
        "#nested if-else\n",
        "age = int(input(\"Enter the age \"))\n",
        "if(age < 18):\n",
        "  print(1)\n",
        "  if(age>10 and age<18): print(21)\n",
        "  else:\n",
        "    print(22)\n",
        "\n",
        "elif(age>18 and age<40):\n",
        "  print(2)\n",
        "elif(age>41 and age<55):\n",
        "  print(3)\n",
        "else:\n",
        "  print(4)\n"
      ],
      "metadata": {
        "colab": {
          "base_uri": "https://localhost:8080/"
        },
        "id": "w8gLm2O8rE5i",
        "outputId": "e0b8f564-7273-4247-c90f-e787f8353188"
      },
      "execution_count": 5,
      "outputs": [
        {
          "output_type": "stream",
          "name": "stdout",
          "text": [
            "Enter the age 23\n",
            "2\n"
          ]
        }
      ]
    },
    {
      "cell_type": "code",
      "source": [
        "#for-loop\n",
        "lst = [1,2,3,4]\n",
        "for i in lst:\n",
        "  print(i**3)"
      ],
      "metadata": {
        "colab": {
          "base_uri": "https://localhost:8080/"
        },
        "id": "sqJBlSd1rogF",
        "outputId": "e583a8c9-9ecc-445f-ce63-2416a6148b4a"
      },
      "execution_count": 7,
      "outputs": [
        {
          "output_type": "stream",
          "name": "stdout",
          "text": [
            "1\n",
            "8\n",
            "27\n",
            "64\n"
          ]
        }
      ]
    },
    {
      "cell_type": "code",
      "source": [
        "lst = [1,2,3,4]\n",
        "sum1=0\n",
        "for i in lst:\n",
        "  sum1 = sum1+i\n",
        "  print(sum1)\n",
        ""
      ],
      "metadata": {
        "colab": {
          "base_uri": "https://localhost:8080/"
        },
        "id": "loyszXdBsKA2",
        "outputId": "87ce40d0-f251-4d07-f507-c06de971bd75"
      },
      "execution_count": 11,
      "outputs": [
        {
          "output_type": "stream",
          "name": "stdout",
          "text": [
            "1\n",
            "3\n",
            "6\n",
            "10\n"
          ]
        }
      ]
    },
    {
      "cell_type": "code",
      "source": [
        "#while-loop\n",
        "\n",
        "i=0\n",
        "even_sum=0\n",
        "odd_sum=0\n",
        "while(i<=10):\n",
        "  if(i%2==0):\n",
        "    even_sum=even_sum+i\n",
        "  else:\n",
        "    odd_sum=odd_sum+i\n",
        "  i=i+1\n",
        "print(even_sum,odd_sum)\n"
      ],
      "metadata": {
        "colab": {
          "base_uri": "https://localhost:8080/"
        },
        "id": "CzxSYS8_tEPr",
        "outputId": "0014993b-2ae6-409b-fd81-cbacc1c86ad2"
      },
      "execution_count": 12,
      "outputs": [
        {
          "output_type": "stream",
          "name": "stdout",
          "text": [
            "30 25\n"
          ]
        }
      ]
    },
    {
      "cell_type": "code",
      "source": [
        "#break\n",
        "x=1\n",
        "while(x<7):\n",
        "  if x==4:\n",
        "    break\n",
        "  print(x)\n",
        "  x=x+1"
      ],
      "metadata": {
        "colab": {
          "base_uri": "https://localhost:8080/"
        },
        "id": "1xicjfEEyhsX",
        "outputId": "232cfcaa-5403-4c4c-89a2-d2c5391e3ed9"
      },
      "execution_count": 15,
      "outputs": [
        {
          "output_type": "stream",
          "name": "stdout",
          "text": [
            "1\n",
            "2\n",
            "3\n"
          ]
        }
      ]
    },
    {
      "cell_type": "code",
      "source": [
        "#continue\n",
        "x=1\n",
        "while(x<7):\n",
        "  x=x+1\n",
        "  if x==4:\n",
        "    continue\n",
        "    print(x)\n",
        "\n"
      ],
      "metadata": {
        "id": "p315OYLHyvzh"
      },
      "execution_count": 18,
      "outputs": []
    },
    {
      "cell_type": "code",
      "source": [],
      "metadata": {
        "id": "gg_gCodGzXzr"
      },
      "execution_count": null,
      "outputs": []
    }
  ]
}