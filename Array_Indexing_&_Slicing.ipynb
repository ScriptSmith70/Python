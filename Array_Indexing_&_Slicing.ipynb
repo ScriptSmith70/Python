{
  "nbformat": 4,
  "nbformat_minor": 0,
  "metadata": {
    "colab": {
      "provenance": [],
      "authorship_tag": "ABX9TyMi5KiQj98g5WO6DpbHxMba",
      "include_colab_link": true
    },
    "kernelspec": {
      "name": "python3",
      "display_name": "Python 3"
    },
    "language_info": {
      "name": "python"
    }
  },
  "cells": [
    {
      "cell_type": "markdown",
      "metadata": {
        "id": "view-in-github",
        "colab_type": "text"
      },
      "source": [
        "<a href=\"https://colab.research.google.com/github/ScriptSmith70/Python/blob/main/Array_Indexing_%26_Slicing.ipynb\" target=\"_parent\"><img src=\"https://colab.research.google.com/assets/colab-badge.svg\" alt=\"Open In Colab\"/></a>"
      ]
    },
    {
      "cell_type": "code",
      "execution_count": 4,
      "metadata": {
        "colab": {
          "base_uri": "https://localhost:8080/"
        },
        "id": "C9AWJThNq1A3",
        "outputId": "a099ff56-fb54-4494-9a59-b162707be925"
      },
      "outputs": [
        {
          "output_type": "stream",
          "name": "stdout",
          "text": [
            "=== Single Colon Questions ===\n",
            "lst1[1:4]: [10, 15, 20]\n",
            "lst2[:3]: [1, 2, 3]\n",
            "lst3[2:]: [30, 40, 50]\n",
            "lst4[1:4]: ['b', 'c', 'd']\n",
            "lst5[2:6]: [6, 8, 10, 12]\n",
            "lst6[1:5:2]: [1, 3]\n",
            "lst7[:4]: ['x', 'y', 'z', 'a']\n",
            "lst8[3:]: [40, 50, 60]\n"
          ]
        }
      ],
      "source": [
        "# ==========================\n",
        "# Single Colon Questions\n",
        "# ==========================\n",
        "print(\"=== Single Colon Questions ===\")\n",
        "lst1 = [5, 10, 15, 20, 25, 30]\n",
        "print(\"lst1[1:4]:\", lst1[1:4])  # 10 15 20\n",
        "\n",
        "lst2 = [1, 2, 3, 4, 5, 6]\n",
        "print(\"lst2[:3]:\", lst2[:3])  # 1 2 3\n",
        "\n",
        "lst3 = [10, 20, 30, 40, 50]\n",
        "print(\"lst3[2:]:\", lst3[2:])  # 30 40 50\n",
        "\n",
        "lst4 = ['a', 'b', 'c', 'd', 'e']\n",
        "print(\"lst4[1:4]:\", lst4[1:4])  # b c d\n",
        "\n",
        "# Tricky single colon\n",
        "lst5 = [2, 4, 6, 8, 10, 12, 14]\n",
        "print(\"lst5[2:6]:\", lst5[2:6])  # 6 8 10 12\n",
        "\n",
        "lst6 = [0, 1, 2, 3, 4, 5]\n",
        "print(\"lst6[1:5:2]:\", lst6[1:5:2])  # 1 3\n",
        "\n",
        "lst7 = ['x', 'y', 'z', 'a', 'b', 'c']\n",
        "print(\"lst7[:4]:\", lst7[:4])  # x y z a\n",
        "\n",
        "lst8 = [10, 20, 30, 40, 50, 60]\n",
        "print(\"lst8[3:]:\", lst8[3:])  # 40 50 60\n",
        "\n"
      ]
    },
    {
      "cell_type": "code",
      "source": [
        "# ==========================\n",
        "# Double Colon Questions\n",
        "# ==========================\n",
        "print(\"\\n=== Double Colon Questions ===\")\n",
        "lst9 = [10, 20, 30, 40, 50, 60]\n",
        "print(\"lst9[::2]:\", lst9[::2])  # 10 30 50\n",
        "\n",
        "lst10 = [1, 2, 3, 4, 5, 6]\n",
        "print(\"lst10[::-1]:\", lst10[::-1])  # 6 5 4 3 2 1\n",
        "\n",
        "lst11 = [10, 20, 30, 40, 50]\n",
        "print(\"lst11[1::2]:\", lst11[1::2])  # 20 40\n",
        "\n",
        "lst12 = ['a', 'b', 'c', 'd', 'e', 'f']\n",
        "print(\"lst12[::3]:\", lst12[::3])  # a d\n",
        "\n",
        "# Tricky double colon\n",
        "lst13 = [1, 2, 3, 4, 5, 6, 7, 8]\n",
        "print(\"lst13[::3]:\", lst13[::3])  # 1 4 7\n",
        "\n",
        "lst14 = [10, 20, 30, 40, 50, 60]\n",
        "print(\"lst14[1::2]:\", lst14[1::2])  # 20 40 60\n",
        "\n",
        "lst15 = ['a', 'b', 'c', 'd', 'e', 'f', 'g']\n",
        "print(\"lst15[::-2]:\", lst15[::-2])  # g e c a\n",
        "\n",
        "lst16 = [5, 10, 15, 20, 25, 30]\n",
        "print(\"lst16[::4]:\", lst16[::4])  # 5 25"
      ],
      "metadata": {
        "colab": {
          "base_uri": "https://localhost:8080/"
        },
        "id": "O-TV3gnurGs8",
        "outputId": "1308b44b-b437-446a-c941-fb83ae0e626e"
      },
      "execution_count": 3,
      "outputs": [
        {
          "output_type": "stream",
          "name": "stdout",
          "text": [
            "\n",
            "=== Double Colon Questions ===\n",
            "lst9[::2]: [10, 30, 50]\n",
            "lst10[::-1]: [6, 5, 4, 3, 2, 1]\n",
            "lst11[1::2]: [20, 40]\n",
            "lst12[::3]: ['a', 'd']\n",
            "lst13[::3]: [1, 4, 7]\n",
            "lst14[1::2]: [20, 40, 60]\n",
            "lst15[::-2]: ['g', 'e', 'c', 'a']\n",
            "lst16[::4]: [5, 25]\n"
          ]
        }
      ]
    },
    {
      "cell_type": "code",
      "source": [
        "# ==========================\n",
        "# 2D Array Slicing\n",
        "# ==========================\n",
        "print(\"\\n=== 2D Array Slicing ===\")\n",
        "matrix = [\n",
        "    [1, 2, 3, 4],\n",
        "    [5, 6, 7, 8],\n",
        "    [9, 10, 11, 12],\n",
        "    [13, 14, 15, 16]\n",
        "]\n",
        "\n",
        "# Basic row and column access\n",
        "print(\"matrix[0]:\", matrix[0])  # first row\n",
        "print(\"matrix[1][2]:\", matrix[1][2])  # 7\n",
        "\n",
        "# Slicing rows\n",
        "print(\"First 2 rows:\", matrix[:2])\n",
        "\n",
        "# Slicing columns\n",
        "print(\"First 2 columns:\", [row[:2] for row in matrix])\n",
        "\n",
        "# Combine row and column slicing\n",
        "print(\"First 2 rows and first 2 columns:\", [row[:2] for row in matrix[:2]])\n",
        "\n",
        "# Double colon in 2D\n",
        "print(\"Every 2nd row:\", matrix[::2])\n",
        "print(\"Every 2nd column of every row:\", [row[::2] for row in matrix])\n",
        "print(\"Every 2nd row and every 2nd column:\", [row[::2] for row in matrix[::2]])"
      ],
      "metadata": {
        "colab": {
          "base_uri": "https://localhost:8080/"
        },
        "id": "FqrgWnXRrN-L",
        "outputId": "88fd0132-e3c0-47a3-af78-a4ea202eb01b"
      },
      "execution_count": 2,
      "outputs": [
        {
          "output_type": "stream",
          "name": "stdout",
          "text": [
            "\n",
            "=== 2D Array Slicing ===\n",
            "matrix[0]: [1, 2, 3, 4]\n",
            "matrix[1][2]: 7\n",
            "First 2 rows: [[1, 2, 3, 4], [5, 6, 7, 8]]\n",
            "First 2 columns: [[1, 2], [5, 6], [9, 10], [13, 14]]\n",
            "First 2 rows and first 2 columns: [[1, 2], [5, 6]]\n",
            "Every 2nd row: [[1, 2, 3, 4], [9, 10, 11, 12]]\n",
            "Every 2nd column of every row: [[1, 3], [5, 7], [9, 11], [13, 15]]\n",
            "Every 2nd row and every 2nd column: [[1, 3], [9, 11]]\n"
          ]
        }
      ]
    },
    {
      "cell_type": "code",
      "source": [],
      "metadata": {
        "id": "WvpGIDvPrO-E"
      },
      "execution_count": null,
      "outputs": []
    }
  ]
}