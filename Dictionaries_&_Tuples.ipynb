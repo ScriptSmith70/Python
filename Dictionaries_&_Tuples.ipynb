{
  "nbformat": 4,
  "nbformat_minor": 0,
  "metadata": {
    "colab": {
      "provenance": [],
      "authorship_tag": "ABX9TyOzBB58xdd5D3Xj0/cK2m5O",
      "include_colab_link": true
    },
    "kernelspec": {
      "name": "python3",
      "display_name": "Python 3"
    },
    "language_info": {
      "name": "python"
    }
  },
  "cells": [
    {
      "cell_type": "markdown",
      "metadata": {
        "id": "view-in-github",
        "colab_type": "text"
      },
      "source": [
        "<a href=\"https://colab.research.google.com/github/ScriptSmith70/Python/blob/main/Dictionaries_%26_Tuples.ipynb\" target=\"_parent\"><img src=\"https://colab.research.google.com/assets/colab-badge.svg\" alt=\"Open In Colab\"/></a>"
      ]
    },
    {
      "cell_type": "markdown",
      "source": [
        "# **Dictionaries**\n",
        "\n",
        "*   Unordered\n",
        "*   Changeable\n",
        "*   Indexed\n",
        "*   Use Curly Brackets{}\n",
        "*   Have Keys and Values\n",
        "\n",
        "\n",
        "\n"
      ],
      "metadata": {
        "id": "fOtxZ3_3_710"
      }
    },
    {
      "cell_type": "code",
      "execution_count": 2,
      "metadata": {
        "colab": {
          "base_uri": "https://localhost:8080/"
        },
        "id": "vq2CaXDV_MYI",
        "outputId": "1e77cf61-8e40-46b7-9af7-99b410c505ca"
      },
      "outputs": [
        {
          "output_type": "execute_result",
          "data": {
            "text/plain": [
              "{'Car1': 'AUDI', 'Car2': 'BMW', 'Car3': 'FORD'}"
            ]
          },
          "metadata": {},
          "execution_count": 2
        }
      ],
      "source": [
        "#CREATION of Dictionary\n",
        "\n",
        "dict1 = {\"Car1\":\"AUDI\", \"Car2\":\"BMW\", \"Car3\":\"FORD\"}\n",
        "dict1"
      ]
    },
    {
      "cell_type": "code",
      "source": [
        "##Access any item\n",
        "\n",
        "dict1['Car1']"
      ],
      "metadata": {
        "colab": {
          "base_uri": "https://localhost:8080/",
          "height": 35
        },
        "id": "sF1JGQ5xBaqu",
        "outputId": "0de4bf53-d051-4dee-a9cb-e4b00d01d614"
      },
      "execution_count": 4,
      "outputs": [
        {
          "output_type": "execute_result",
          "data": {
            "text/plain": [
              "'AUDI'"
            ],
            "application/vnd.google.colaboratory.intrinsic+json": {
              "type": "string"
            }
          },
          "metadata": {},
          "execution_count": 4
        }
      ]
    },
    {
      "cell_type": "code",
      "source": [
        "#Loop through dictionary keys\n",
        "\n",
        "for x in dict1:\n",
        "  print(x)"
      ],
      "metadata": {
        "colab": {
          "base_uri": "https://localhost:8080/"
        },
        "id": "kA4xWlSyBqPI",
        "outputId": "6394c682-b952-4bae-ecf1-5a7282b4146e"
      },
      "execution_count": 5,
      "outputs": [
        {
          "output_type": "stream",
          "name": "stdout",
          "text": [
            "Car1\n",
            "Car2\n",
            "Car3\n"
          ]
        }
      ]
    },
    {
      "cell_type": "code",
      "source": [
        "##Loop through dictionary keys\n",
        "\n",
        "for x in dict1.values():\n",
        "  print(x)"
      ],
      "metadata": {
        "colab": {
          "base_uri": "https://localhost:8080/"
        },
        "id": "lcvfhVxfCAat",
        "outputId": "74032f8b-8d4c-42c9-8e18-43e82057a614"
      },
      "execution_count": 6,
      "outputs": [
        {
          "output_type": "stream",
          "name": "stdout",
          "text": [
            "AUDI\n",
            "BMW\n",
            "FORD\n"
          ]
        }
      ]
    },
    {
      "cell_type": "code",
      "source": [
        "## Loop through both dictionary keys & values\n",
        "\n",
        "for x in dict1.items():\n",
        "  print(x)"
      ],
      "metadata": {
        "colab": {
          "base_uri": "https://localhost:8080/"
        },
        "id": "vFEOi-esCKc1",
        "outputId": "6d9bd001-8aa0-4e98-9ee5-e4c5dcfc2061"
      },
      "execution_count": 7,
      "outputs": [
        {
          "output_type": "stream",
          "name": "stdout",
          "text": [
            "('Car1', 'AUDI')\n",
            "('Car2', 'BMW')\n",
            "('Car3', 'FORD')\n"
          ]
        }
      ]
    },
    {
      "cell_type": "code",
      "source": [
        "## Adding Items in Dictionary\n",
        "\n",
        "dict1['Car4'] = 'ALTO'\n",
        "dict1"
      ],
      "metadata": {
        "colab": {
          "base_uri": "https://localhost:8080/"
        },
        "id": "B_4DK37OCXd3",
        "outputId": "752ee89f-9f2a-42f8-f115-97f211131e1c"
      },
      "execution_count": 8,
      "outputs": [
        {
          "output_type": "execute_result",
          "data": {
            "text/plain": [
              "{'Car1': 'AUDI', 'Car2': 'BMW', 'Car3': 'FORD', 'Car4': 'ALTO'}"
            ]
          },
          "metadata": {},
          "execution_count": 8
        }
      ]
    },
    {
      "cell_type": "markdown",
      "source": [
        "**NESTED DICTIONARY**"
      ],
      "metadata": {
        "id": "YRkQlhJrC5iL"
      }
    },
    {
      "cell_type": "code",
      "source": [
        "car1_model={'Mercedes':1960}\n",
        "car2_model={'Audi':1970}\n",
        "car3_model={'Ambassador':1980}\n",
        "\n",
        "car_type={'car1':car1_model,'car2':car2_model,'car3':car3_model}"
      ],
      "metadata": {
        "id": "E0zA1MEEC3R6"
      },
      "execution_count": 9,
      "outputs": []
    },
    {
      "cell_type": "code",
      "source": [
        "print(car_type)"
      ],
      "metadata": {
        "colab": {
          "base_uri": "https://localhost:8080/"
        },
        "id": "FhkXaHuCDUvI",
        "outputId": "4c91c4b3-e80f-4707-be51-8602606b2fdc"
      },
      "execution_count": 10,
      "outputs": [
        {
          "output_type": "stream",
          "name": "stdout",
          "text": [
            "{'car1': {'Mercedes': 1960}, 'car2': {'Audi': 1970}, 'car3': {'Ambassador': 1980}}\n"
          ]
        }
      ]
    },
    {
      "cell_type": "code",
      "source": [
        "## Accessing the items in the dictionary\n",
        "\n",
        "print(car_type['car1'])"
      ],
      "metadata": {
        "colab": {
          "base_uri": "https://localhost:8080/"
        },
        "id": "k0v5niZ2DYQe",
        "outputId": "27a92439-3ff6-4dd7-d0ae-35ce51493d04"
      },
      "execution_count": 11,
      "outputs": [
        {
          "output_type": "stream",
          "name": "stdout",
          "text": [
            "{'Mercedes': 1960}\n"
          ]
        }
      ]
    },
    {
      "cell_type": "code",
      "source": [
        "print(car_type['car1']['Mercedes'])"
      ],
      "metadata": {
        "colab": {
          "base_uri": "https://localhost:8080/"
        },
        "id": "f8lwMdrWDmcR",
        "outputId": "c61a78a9-8d4b-430e-e1a5-951eb70a96d1"
      },
      "execution_count": 12,
      "outputs": [
        {
          "output_type": "stream",
          "name": "stdout",
          "text": [
            "1960\n"
          ]
        }
      ]
    },
    {
      "cell_type": "markdown",
      "source": [
        "# **TUPLES**"
      ],
      "metadata": {
        "id": "1ubbKYYLDzhF"
      }
    },
    {
      "cell_type": "code",
      "source": [
        "tuple1=(\"A\",\"B\",\"C\")\n",
        "tuple1"
      ],
      "metadata": {
        "colab": {
          "base_uri": "https://localhost:8080/"
        },
        "id": "12YZHa2-Dqcd",
        "outputId": "80c2dfe0-ef08-4a44-fa6d-fc2ca0ca9bda"
      },
      "execution_count": 13,
      "outputs": [
        {
          "output_type": "execute_result",
          "data": {
            "text/plain": [
              "('A', 'B', 'C')"
            ]
          },
          "metadata": {},
          "execution_count": 13
        }
      ]
    },
    {
      "cell_type": "code",
      "source": [
        "print(type(tuple1))"
      ],
      "metadata": {
        "colab": {
          "base_uri": "https://localhost:8080/"
        },
        "id": "0xWO7ofqEFpH",
        "outputId": "fbc13b41-6bf1-41f6-ec9d-6098fc8caeab"
      },
      "execution_count": 14,
      "outputs": [
        {
          "output_type": "stream",
          "name": "stdout",
          "text": [
            "<class 'tuple'>\n"
          ]
        }
      ]
    },
    {
      "cell_type": "code",
      "source": [
        "## Inbuilt function\n",
        "tuple1.count('B')"
      ],
      "metadata": {
        "colab": {
          "base_uri": "https://localhost:8080/"
        },
        "id": "7836itEVELlv",
        "outputId": "67d053ad-5e85-446a-864c-02b44d41e74d"
      },
      "execution_count": 15,
      "outputs": [
        {
          "output_type": "execute_result",
          "data": {
            "text/plain": [
              "1"
            ]
          },
          "metadata": {},
          "execution_count": 15
        }
      ]
    },
    {
      "cell_type": "code",
      "source": [
        "tuple1.index('C')"
      ],
      "metadata": {
        "colab": {
          "base_uri": "https://localhost:8080/"
        },
        "id": "yDIZnhHVETpp",
        "outputId": "1b110c38-10fb-4a5b-963f-d8aef784c73c"
      },
      "execution_count": 16,
      "outputs": [
        {
          "output_type": "execute_result",
          "data": {
            "text/plain": [
              "2"
            ]
          },
          "metadata": {},
          "execution_count": 16
        }
      ]
    },
    {
      "cell_type": "code",
      "source": [],
      "metadata": {
        "id": "EoA6LnvPElZ7"
      },
      "execution_count": null,
      "outputs": []
    }
  ]
}