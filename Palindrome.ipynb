{
  "nbformat": 4,
  "nbformat_minor": 0,
  "metadata": {
    "colab": {
      "provenance": [],
      "authorship_tag": "ABX9TyOysg0jn7IpJWhw7YqNN4No",
      "include_colab_link": true
    },
    "kernelspec": {
      "name": "python3",
      "display_name": "Python 3"
    },
    "language_info": {
      "name": "python"
    }
  },
  "cells": [
    {
      "cell_type": "markdown",
      "metadata": {
        "id": "view-in-github",
        "colab_type": "text"
      },
      "source": [
        "<a href=\"https://colab.research.google.com/github/ScriptSmith70/Python/blob/main/Palindrome.ipynb\" target=\"_parent\"><img src=\"https://colab.research.google.com/assets/colab-badge.svg\" alt=\"Open In Colab\"/></a>"
      ]
    },
    {
      "cell_type": "code",
      "execution_count": 1,
      "metadata": {
        "colab": {
          "base_uri": "https://localhost:8080/"
        },
        "id": "k24jIJUhQar0",
        "outputId": "f7c38882-5597-472f-ea6d-4f820a772fb2"
      },
      "outputs": [
        {
          "output_type": "stream",
          "name": "stdout",
          "text": [
            "True\n",
            "False\n",
            "True\n",
            "False\n",
            "True\n"
          ]
        }
      ],
      "source": [
        "# Function to check if a number is palindrome\n",
        "def is_palindrome_number(num: int) -> bool:\n",
        "    return str(num) == str(num)[::-1]\n",
        "\n",
        "\n",
        "# Function to check if a string is palindrome\n",
        "def is_palindrome_string(s: str) -> bool:\n",
        "    cleaned = ''.join(ch.lower() for ch in s if ch.isalnum())  # ignore spaces/punctuation\n",
        "    return cleaned == cleaned[::-1]\n",
        "\n",
        "\n",
        "# --- Examples ---\n",
        "# Numbers\n",
        "print(is_palindrome_number(121))   # True\n",
        "print(is_palindrome_number(123))   # False\n",
        "\n",
        "# Strings\n",
        "print(is_palindrome_string(\"madam\"))             # True\n",
        "print(is_palindrome_string(\"Hello\"))             # False\n",
        "print(is_palindrome_string(\"A man a plan a canal Panama\"))  # True\n"
      ]
    }
  ]
}